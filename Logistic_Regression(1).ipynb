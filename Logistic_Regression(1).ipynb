{
  "nbformat": 4,
  "nbformat_minor": 0,
  "metadata": {
    "kernelspec": {
      "display_name": "Python 3",
      "language": "python",
      "name": "python3"
    },
    "language_info": {
      "codemirror_mode": {
        "name": "ipython",
        "version": 3
      },
      "file_extension": ".py",
      "mimetype": "text/x-python",
      "name": "python",
      "nbconvert_exporter": "python",
      "pygments_lexer": "ipython3",
      "version": "3.7.3"
    },
    "colab": {
      "name": "Logistic_Regression.ipynb",
      "provenance": [],
      "collapsed_sections": []
    }
  },
  "cells": [
    {
      "cell_type": "markdown",
      "metadata": {
        "id": "Y6-KUVvqNIuo",
        "colab_type": "text"
      },
      "source": [
        "<h2 align=\"center\"> Logistic Regression </h2>"
      ]
    },
    {
      "cell_type": "markdown",
      "metadata": {
        "id": "_bP2nmj2NIuu",
        "colab_type": "text"
      },
      "source": [
        " "
      ]
    },
    {
      "cell_type": "markdown",
      "metadata": {
        "id": "J0VdIrtgNIuz",
        "colab_type": "text"
      },
      "source": [
        "### Task 2: Load the Data and Libraries\n",
        "---"
      ]
    },
    {
      "cell_type": "code",
      "metadata": {
        "id": "Sph93YFiNIu2",
        "colab_type": "code",
        "colab": {
          "base_uri": "https://localhost:8080/",
          "height": 74
        },
        "outputId": "b2ee0631-120b-4247-99ab-64b4e3e2e8ec"
      },
      "source": [
        "import numpy as np\n",
        "import matplotlib.pyplot as plt\n",
        "import seaborn as sns\n",
        "import pandas as pd\n",
        "plt.style.use(\"ggplot\")\n",
        "%matplotlib inline"
      ],
      "execution_count": 1,
      "outputs": [
        {
          "output_type": "stream",
          "text": [
            "/usr/local/lib/python3.6/dist-packages/statsmodels/tools/_testing.py:19: FutureWarning: pandas.util.testing is deprecated. Use the functions in the public API at pandas.testing instead.\n",
            "  import pandas.util.testing as tm\n"
          ],
          "name": "stderr"
        }
      ]
    },
    {
      "cell_type": "code",
      "metadata": {
        "id": "fBbViIoYNIvK",
        "colab_type": "code",
        "colab": {}
      },
      "source": [
        "from pylab import rcParams\n",
        "rcParams['figure.figsize'] = 12, 8"
      ],
      "execution_count": 0,
      "outputs": []
    },
    {
      "cell_type": "code",
      "metadata": {
        "id": "tpHt2_NSNIvY",
        "colab_type": "code",
        "colab": {
          "base_uri": "https://localhost:8080/",
          "height": 206
        },
        "outputId": "58903ad2-c1ab-4890-e8b3-fe4ef0163e73"
      },
      "source": [
        "data = pd.read_csv('DMV_Written_Tests.csv')\n",
        "data.head()"
      ],
      "execution_count": 4,
      "outputs": [
        {
          "output_type": "execute_result",
          "data": {
            "text/html": [
              "<div>\n",
              "<style scoped>\n",
              "    .dataframe tbody tr th:only-of-type {\n",
              "        vertical-align: middle;\n",
              "    }\n",
              "\n",
              "    .dataframe tbody tr th {\n",
              "        vertical-align: top;\n",
              "    }\n",
              "\n",
              "    .dataframe thead th {\n",
              "        text-align: right;\n",
              "    }\n",
              "</style>\n",
              "<table border=\"1\" class=\"dataframe\">\n",
              "  <thead>\n",
              "    <tr style=\"text-align: right;\">\n",
              "      <th></th>\n",
              "      <th>DMV_Test_1</th>\n",
              "      <th>DMV_Test_2</th>\n",
              "      <th>Results</th>\n",
              "    </tr>\n",
              "  </thead>\n",
              "  <tbody>\n",
              "    <tr>\n",
              "      <th>0</th>\n",
              "      <td>34.623660</td>\n",
              "      <td>78.024693</td>\n",
              "      <td>0</td>\n",
              "    </tr>\n",
              "    <tr>\n",
              "      <th>1</th>\n",
              "      <td>30.286711</td>\n",
              "      <td>43.894998</td>\n",
              "      <td>0</td>\n",
              "    </tr>\n",
              "    <tr>\n",
              "      <th>2</th>\n",
              "      <td>35.847409</td>\n",
              "      <td>72.902198</td>\n",
              "      <td>0</td>\n",
              "    </tr>\n",
              "    <tr>\n",
              "      <th>3</th>\n",
              "      <td>60.182599</td>\n",
              "      <td>86.308552</td>\n",
              "      <td>1</td>\n",
              "    </tr>\n",
              "    <tr>\n",
              "      <th>4</th>\n",
              "      <td>79.032736</td>\n",
              "      <td>75.344376</td>\n",
              "      <td>1</td>\n",
              "    </tr>\n",
              "  </tbody>\n",
              "</table>\n",
              "</div>"
            ],
            "text/plain": [
              "   DMV_Test_1  DMV_Test_2  Results\n",
              "0   34.623660   78.024693        0\n",
              "1   30.286711   43.894998        0\n",
              "2   35.847409   72.902198        0\n",
              "3   60.182599   86.308552        1\n",
              "4   79.032736   75.344376        1"
            ]
          },
          "metadata": {
            "tags": []
          },
          "execution_count": 4
        }
      ]
    },
    {
      "cell_type": "code",
      "metadata": {
        "id": "u6mrFTmVNIvn",
        "colab_type": "code",
        "colab": {}
      },
      "source": [
        "scores  = data[['DMV_Test_1','DMV_Test_2']].values\n",
        "results = data['Results'].values"
      ],
      "execution_count": 0,
      "outputs": []
    },
    {
      "cell_type": "code",
      "metadata": {
        "id": "qD_Yc1HJNIvy",
        "colab_type": "code",
        "colab": {
          "base_uri": "https://localhost:8080/",
          "height": 201
        },
        "outputId": "f5857318-706a-4281-83e4-fa97ccbbf887"
      },
      "source": [
        "data.info()"
      ],
      "execution_count": 6,
      "outputs": [
        {
          "output_type": "stream",
          "text": [
            "<class 'pandas.core.frame.DataFrame'>\n",
            "RangeIndex: 100 entries, 0 to 99\n",
            "Data columns (total 3 columns):\n",
            " #   Column      Non-Null Count  Dtype  \n",
            "---  ------      --------------  -----  \n",
            " 0   DMV_Test_1  100 non-null    float64\n",
            " 1   DMV_Test_2  100 non-null    float64\n",
            " 2   Results     100 non-null    int64  \n",
            "dtypes: float64(2), int64(1)\n",
            "memory usage: 2.5 KB\n"
          ],
          "name": "stdout"
        }
      ]
    },
    {
      "cell_type": "markdown",
      "metadata": {
        "id": "8W19QLZfNIv-",
        "colab_type": "text"
      },
      "source": [
        "### Task 3: Visualize the Data\n",
        "---"
      ]
    },
    {
      "cell_type": "code",
      "metadata": {
        "id": "cxWF98tKNIwB",
        "colab_type": "code",
        "colab": {
          "base_uri": "https://localhost:8080/",
          "height": 500
        },
        "outputId": "85b9fb42-2e9c-4ce1-e62b-f6037b3fe1fb"
      },
      "source": [
        "passed = (results ==1).reshape(100,1)\n",
        "failed = (results ==0).reshape(100,1)\n",
        "\n",
        "ax = sns.scatterplot(x = scores[passed[:, 0], 0],\n",
        "                     y = scores[passed[:, 0], 1],\n",
        "                     marker = '^',\n",
        "                     color = 'green',\n",
        "                     s=60)\n",
        "\n",
        "sns.scatterplot(x = scores[failed[:, 0], 0],\n",
        "                     y = scores[failed[:, 0], 1],\n",
        "                     marker = 'X',\n",
        "                     color = 'red',\n",
        "                     s=60)\n",
        "ax.set(xlabel = \"DMV Writeen Test 1 Scores\", ylabel = \"DMV Written test 2 Scores\")\n",
        "ax.legend(['Passed', 'failed'])\n",
        "plt.show()"
      ],
      "execution_count": 7,
      "outputs": [
        {
          "output_type": "display_data",
          "data": {
            "image/png": "[encoded data removed]",
            "text/plain": [
              "<Figure size 864x576 with 1 Axes>"
            ]
          },
          "metadata": {
            "tags": [],
            "needs_background": "light"
          }
        }
      ]
    },
    {
      "cell_type": "markdown",
      "metadata": {
        "id": "4S2haBDTNIwO",
        "colab_type": "text"
      },
      "source": [
        "plt### Task 4: Define the Logistic Sigmoid Function $\\sigma(z)$\n",
        "---\n",
        "\n",
        "$$ \\sigma(z) = \\frac{1}{1+e^{-z}}$$"
      ]
    },
    {
      "cell_type": "code",
      "metadata": {
        "id": "vDv5C6dVNIwP",
        "colab_type": "code",
        "colab": {}
      },
      "source": [
        "def sigmoid(x):\n",
        "  return 1/(1+np.exp(-x))"
      ],
      "execution_count": 0,
      "outputs": []
    },
    {
      "cell_type": "code",
      "metadata": {
        "id": "C10ZO0OsNIwZ",
        "colab_type": "code",
        "colab": {
          "base_uri": "https://localhost:8080/",
          "height": 35
        },
        "outputId": "d18747b8-b144-4d15-d57e-9e7d0eac2f29"
      },
      "source": [
        "sigmoid(0)"
      ],
      "execution_count": 10,
      "outputs": [
        {
          "output_type": "execute_result",
          "data": {
            "text/plain": [
              "0.5"
            ]
          },
          "metadata": {
            "tags": []
          },
          "execution_count": 10
        }
      ]
    },
    {
      "cell_type": "markdown",
      "metadata": {
        "id": "2xvHfMtkNIwh",
        "colab_type": "text"
      },
      "source": [
        "### Task 5: Compute the Cost Function $J(\\theta)$ and Gradient\n",
        "---"
      ]
    },
    {
      "cell_type": "markdown",
      "metadata": {
        "id": "kPFMsBlvNIwj",
        "colab_type": "text"
      },
      "source": [
        "The objective of logistic regression is to minimize the cost function\n",
        "\n",
        "$$J(\\theta) = -\\frac{1}{m} \\sum_{i=1}^{m} [ y^{(i)}log(h_{\\theta}(x^{(i)})) + (1 - y^{(i)})log(1 - (h_{\\theta}(x^{(i)}))]$$\n",
        "\n",
        "where the gradient of the cost function is given by\n",
        "\n",
        "$$ \\frac{\\partial J(\\theta)}{\\partial \\theta_j} = \\frac{1}{m} \\sum_{i=1}^{m} (h_{\\theta}(x^{(i)}) - y^{(i)})x_j^{(i)}$$"
      ]
    },
    {
      "cell_type": "code",
      "metadata": {
        "id": "igldOUpvNIwl",
        "colab_type": "code",
        "colab": {}
      },
      "source": [
        "def compute_cost(theta, x, y):\n",
        "  m = len(y)\n",
        "  y_pred = sigmoid(np.dot(x, theta))\n",
        "  error = (y * np.log(y_pred))+(1-y)*np.log(1-y_pred)\n",
        "  cost = -1/m *sum(error)\n",
        "  gradient = 1/m *np.dot(x.transpose(),(y_pred-y))\n",
        "  return cost[0], gradient"
      ],
      "execution_count": 0,
      "outputs": []
    },
    {
      "cell_type": "markdown",
      "metadata": {
        "id": "s-C8yazRNIw4",
        "colab_type": "text"
      },
      "source": [
        " "
      ]
    },
    {
      "cell_type": "markdown",
      "metadata": {
        "id": "iBNbkCrENIw6",
        "colab_type": "text"
      },
      "source": [
        "### Task 6: Cost and Gradient at Initialization\n",
        "---"
      ]
    },
    {
      "cell_type": "code",
      "metadata": {
        "id": "DtYcicH8NIw7",
        "colab_type": "code",
        "colab": {
          "base_uri": "https://localhost:8080/",
          "height": 90
        },
        "outputId": "c0405a76-f55d-4b84-ac3b-07c8b9b39ef9"
      },
      "source": [
        "mean_scores = np.mean(scores, axis = 0)\n",
        "std_scores = np.std(scores, axis = 0)\n",
        "scores = (scores - mean_scores) / std_scores\n",
        "\n",
        "rows = scores.shape[0]\n",
        "cols = scores.shape[1]\n",
        "\n",
        "X = np.append(np.ones((rows, 1)), scores, axis =1 )\n",
        "y = results.reshape(rows, 1)\n",
        "\n",
        "theta_init = np.zeros((cols + 1,1))\n",
        "cost, gradient = compute_cost(theta_init, X, y)\n",
        "\n",
        "print(\"Cost at Initialization\", cost)\n",
        "print(\"Gradients t Initialization\", gradient)"
      ],
      "execution_count": 12,
      "outputs": [
        {
          "output_type": "stream",
          "text": [
            "Cost at Initialization 0.693147180559946\n",
            "Gradients t Initialization [[-0.1       ]\n",
            " [-0.28122914]\n",
            " [-0.25098615]]\n"
          ],
          "name": "stdout"
        }
      ]
    },
    {
      "cell_type": "code",
      "metadata": {
        "id": "lPOyQqlZNIxT",
        "colab_type": "code",
        "colab": {}
      },
      "source": [
        "\n",
        "\n",
        "\n"
      ],
      "execution_count": 0,
      "outputs": []
    },
    {
      "cell_type": "markdown",
      "metadata": {
        "id": "fVSdQiEdNIxp",
        "colab_type": "text"
      },
      "source": [
        " "
      ]
    },
    {
      "cell_type": "markdown",
      "metadata": {
        "id": "ME8NVsYQNIxs",
        "colab_type": "text"
      },
      "source": [
        "### Task 7: Gradient Descent\n",
        "---"
      ]
    },
    {
      "cell_type": "markdown",
      "metadata": {
        "id": "TphPyMdANIxv",
        "colab_type": "text"
      },
      "source": [
        "Minimize the cost function $J(\\theta)$ by updating the below equation and repeat until convergence\n",
        "$\\theta_j := \\theta_j - \\alpha \\frac{\\partial J(\\theta)}{\\partial \\theta_j}$ (simultaneously update $\\theta_j$ for all $j$)"
      ]
    },
    {
      "cell_type": "code",
      "metadata": {
        "id": "4RYHg-c-NIxw",
        "colab_type": "code",
        "colab": {}
      },
      "source": [
        "def gradient_descent(x, y, theta, alpha, iterations):\n",
        "  costs =[]\n",
        "  for i in range(iterations):\n",
        "    cost, gradient = compute_cost(theta, x, y)\n",
        "    theta -= (alpha * gradient)\n",
        "    costs.append(cost)\n",
        "  return theta, costs"
      ],
      "execution_count": 0,
      "outputs": []
    },
    {
      "cell_type": "code",
      "metadata": {
        "id": "RMdmHGKPNIx5",
        "colab_type": "code",
        "colab": {}
      },
      "source": [
        "theta, costs = gradient_descent(X, y, theta_init, 1, 200)"
      ],
      "execution_count": 0,
      "outputs": []
    },
    {
      "cell_type": "code",
      "metadata": {
        "id": "s4N3d-PoNIyE",
        "colab_type": "code",
        "colab": {
          "base_uri": "https://localhost:8080/",
          "height": 90
        },
        "outputId": "2d64ab2b-5956-4f96-b500-8ced4c905d83"
      },
      "source": [
        "print(\"Theta after running gradient descent: \", +theta)\n",
        "print(\"resulting cost: \", costs[-1])"
      ],
      "execution_count": 33,
      "outputs": [
        {
          "output_type": "stream",
          "text": [
            "Theta after running gradient descent:  [[1.71288923]\n",
            " [3.98091615]\n",
            " [3.71364897]]\n",
            "resulting cost:  0.20349859370048604\n"
          ],
          "name": "stdout"
        }
      ]
    },
    {
      "cell_type": "markdown",
      "metadata": {
        "id": "DscZrE1oNIyL",
        "colab_type": "text"
      },
      "source": [
        " "
      ]
    },
    {
      "cell_type": "markdown",
      "metadata": {
        "id": "L-uty9KjNIyM",
        "colab_type": "text"
      },
      "source": [
        "### Task 8: Plotting the Convergence of $J(\\theta)$\n",
        "---"
      ]
    },
    {
      "cell_type": "markdown",
      "metadata": {
        "id": "P4Ric1emNIyO",
        "colab_type": "text"
      },
      "source": [
        "Plot $J(\\theta)$ against the number of iterations of gradient descent:"
      ]
    },
    {
      "cell_type": "code",
      "metadata": {
        "id": "ZFrCr_sdNIyQ",
        "colab_type": "code",
        "colab": {
          "base_uri": "https://localhost:8080/",
          "height": 535
        },
        "outputId": "cb1a5e37-275c-4086-9527-92b277a9beab"
      },
      "source": [
        "plt.plot(costs)\n",
        "plt.xlabel(\"Iterations\")\n",
        "plt.ylabel(\"$J(\\theta)$\")\n",
        "plt.title(\"Values of cost Functions over iterations of gradient descent\")"
      ],
      "execution_count": 34,
      "outputs": [
        {
          "output_type": "execute_result",
          "data": {
            "text/plain": [
              "Text(0.5, 1.0, 'Values of cost Functions over iterations of gradient descent')"
            ]
          },
          "metadata": {
            "tags": []
          },
          "execution_count": 34
        },
        {
          "output_type": "display_data",
          "data": {
            "image/png": "[encoded data removed]",
            "text/plain": [
              "<Figure size 864x576 with 1 Axes>"
            ]
          },
          "metadata": {
            "tags": [],
            "needs_background": "light"
          }
        }
      ]
    },
    {
      "cell_type": "code",
      "metadata": {
        "id": "euJ6MXOWNIyW",
        "colab_type": "code",
        "colab": {}
      },
      "source": [
        ""
      ],
      "execution_count": 0,
      "outputs": []
    },
    {
      "cell_type": "markdown",
      "metadata": {
        "id": "pNzbbtxdNIye",
        "colab_type": "text"
      },
      "source": [
        " "
      ]
    },
    {
      "cell_type": "markdown",
      "metadata": {
        "id": "CA6WKfs6NIyf",
        "colab_type": "text"
      },
      "source": [
        "### Task 9: Plotting the decision boundary\n",
        "---"
      ]
    },
    {
      "cell_type": "markdown",
      "metadata": {
        "id": "-p6lWsPcNIyg",
        "colab_type": "text"
      },
      "source": [
        "$h_\\theta(x) = \\sigma(z)$, where $\\sigma$ is the logistic sigmoid function and $z = \\theta^Tx$\n",
        "\n",
        "When $h_\\theta(x) \\geq 0.5$ the model predicts class \"1\":\n",
        "\n",
        "$\\implies \\sigma(\\theta^Tx) \\geq 0.5$\n",
        "\n",
        "$\\implies \\theta^Tx \\geq 0$ predict class \"1\" \n",
        "\n",
        "Hence, $\\theta_1 + \\theta_2x_2 + \\theta_3x_3 = 0$ is the equation for the decision boundary, giving us \n",
        "\n",
        "$ x_3 = \\frac{-(\\theta_1+\\theta_2x_2)}{\\theta_3}$"
      ]
    },
    {
      "cell_type": "code",
      "metadata": {
        "id": "3eJTReMANIyi",
        "colab_type": "code",
        "colab": {
          "base_uri": "https://localhost:8080/",
          "height": 500
        },
        "outputId": "9ac5b167-622d-4aa7-f7dc-4e634e853131"
      },
      "source": [
        "ax = sns.scatterplot(x = X[passed[:, 0], 1],\n",
        "                     y = X[passed[:, 0], 2],\n",
        "                     marker = \"^\",\n",
        "                     color = \"green\",\n",
        "                     s = 60)\n",
        "sns.scatterplot(x = X[failed[:, 0], 1],\n",
        "                y = X[failed[:, 0], 2],\n",
        "                marker = \"X\",\n",
        "                color = \"red\",\n",
        "                s = 60)\n",
        "\n",
        "ax.legend(['Passed, \"Failed'])\n",
        "ax.set(xlabel = \"DMV Written Test 1 Scores\", ylabel = \"DMV Written Test 2 Scores\")\n",
        "\n",
        "x_boundary = np.array([np.min(X[:, 1]),np.max(X[:, 1])])\n",
        "y_boundary = -(theta[0] + theta[1]* x_boundary)/ theta[2]\n",
        "\n",
        "sns.lineplot(x = x_boundary, y = y_boundary, color = \"blue\")\n",
        "plt.show();"
      ],
      "execution_count": 35,
      "outputs": [
        {
          "output_type": "display_data",
          "data": {
            "image/png": "[encoded data removed]",
            "text/plain": [
              "<Figure size 864x576 with 1 Axes>"
            ]
          },
          "metadata": {
            "tags": [],
            "needs_background": "light"
          }
        }
      ]
    },
    {
      "cell_type": "code",
      "metadata": {
        "id": "oqHvg8ipNIyo",
        "colab_type": "code",
        "colab": {}
      },
      "source": [
        ""
      ],
      "execution_count": 0,
      "outputs": []
    },
    {
      "cell_type": "markdown",
      "metadata": {
        "id": "XLdOVCW8NIyv",
        "colab_type": "text"
      },
      "source": [
        " "
      ]
    },
    {
      "cell_type": "markdown",
      "metadata": {
        "id": "133dhMfVNIyw",
        "colab_type": "text"
      },
      "source": [
        "### Task 10: Predictions using the optimized $\\theta$ values\n",
        "---"
      ]
    },
    {
      "cell_type": "markdown",
      "metadata": {
        "id": "SoOhojaKNIyz",
        "colab_type": "text"
      },
      "source": [
        "$h_\\theta(x) = x\\theta$"
      ]
    },
    {
      "cell_type": "code",
      "metadata": {
        "id": "k9bhNfhFNIy4",
        "colab_type": "code",
        "colab": {}
      },
      "source": [
        "def predict(theta, x):\n",
        "  results = x.dot(theta)\n",
        "  return results>0"
      ],
      "execution_count": 0,
      "outputs": []
    },
    {
      "cell_type": "code",
      "metadata": {
        "id": "Lg5ue2LxNIy_",
        "colab_type": "code",
        "colab": {
          "base_uri": "https://localhost:8080/",
          "height": 35
        },
        "outputId": "18e2802a-0399-482d-cd8b-b67083e87ccd"
      },
      "source": [
        "p = predict(theta, X)\n",
        "print(\"Training Accuracy: \", sum(p==y)[0], \"%\")"
      ],
      "execution_count": 38,
      "outputs": [
        {
          "output_type": "stream",
          "text": [
            "Training Accuracy:  89 %\n"
          ],
          "name": "stdout"
        }
      ]
    },
    {
      "cell_type": "code",
      "metadata": {
        "id": "2qhmcG19NIzH",
        "colab_type": "code",
        "colab": {
          "base_uri": "https://localhost:8080/",
          "height": 35
        },
        "outputId": "1cb2192d-235d-438e-9d81-932be9445a87"
      },
      "source": [
        "test = np.array([50,79])\n",
        "test = (test - mean_scores)/std_scores\n",
        "test = np.append(np.ones(1), test)\n",
        "probability = sigmoid(test.dot(theta))\n",
        "print(\" A Person who scores 50 and 79 in their DMV Tests has probability of passing: \",np.round(probability[0], 2))"
      ],
      "execution_count": 51,
      "outputs": [
        {
          "output_type": "stream",
          "text": [
            " A Person who scores 50 and 79 in their DMV Tests has probability:  0.74\n"
          ],
          "name": "stdout"
        }
      ]
    },
    {
      "cell_type": "code",
      "metadata": {
        "id": "5_clX0LJYXed",
        "colab_type": "code",
        "colab": {}
      },
      "source": [
        ""
      ],
      "execution_count": 0,
      "outputs": []
    }
  ]
}